{
 "cells": [
  {
   "cell_type": "code",
   "execution_count": null,
   "metadata": {
    "collapsed": true
   },
   "outputs": [],
   "source": [
    "#Code to compute the internal energy change during impulsive encounter along straight orbit\n",
    "\n",
    "#Computes and plots both non-perturbative and tidal limit \\Delta E_{int} vs impact parameter for different values of rp/rs"
   ]
  },
  {
   "cell_type": "code",
   "execution_count": 1,
   "metadata": {
    "collapsed": true
   },
   "outputs": [],
   "source": [
    "import numpy as np\n",
    "import matplotlib as mpl\n",
    "import matplotlib.pyplot as plt\n",
    "import matplotlib.patches as mpatches\n",
    "import math\n",
    "import random\n",
    "from matplotlib.patches import Rectangle\n",
    "from matplotlib import cm\n",
    "import matplotlib.colors as colors\n",
    "from matplotlib.pylab import *\n",
    "from matplotlib.colors import LogNorm\n",
    "import matplotlib.ticker as mtick\n",
    "from matplotlib.ticker import ScalarFormatter, FormatStrFormatter\n",
    "from matplotlib.ticker import (MultipleLocator, FormatStrFormatter, AutoMinorLocator)\n",
    "import matplotlib.ticker as ticker\n",
    "from matplotlib.patches import BoxStyle\n",
    "from scipy import integrate\n",
    "from scipy import optimize\n",
    "from scipy.optimize import fsolve\n",
    "from scipy.interpolate import CubicSpline,interp1d\n",
    "from scipy.special import erf as errorfunc\n",
    "from scipy.special import gamma, factorial\n",
    "from scipy.signal import argrelextrema \n",
    "from scipy.signal import savgol_filter\n",
    "from matplotlib import cm\n",
    "from numpy import linalg\n",
    "import time\n",
    "import os\n",
    "import h5py\n",
    "import string\n",
    "from straight_functions_spherical_perturber import *\n",
    "\n",
    "#-----------------------------------------------------------------\n",
    "\n"
   ]
  },
  {
   "cell_type": "code",
   "execution_count": 17,
   "metadata": {
    "collapsed": true
   },
   "outputs": [],
   "source": [
    "#-------Input parameters-------\n",
    "\n",
    "mass_ratio=1                 #Subject mass Ms/Perturber mass Mp\n",
    "q=1/mass_ratio\n",
    "rp=1e0                       #Perturber scale radius rp in units of rs: 1e-2 -> 1e2\n",
    "Rc=1                         #Truncation radius in units of rs (<bmin for point perturber)\n",
    "rmax=10                      #Maximum radius for integration over subject profile; should be at least 2 times bmax; c (NFW subject); (<bmin for point perturber) \n",
    "\n",
    "perturber_flag=2             #perturber_flag: 1: Point mass, 2: Plummer sphere, 3: Hernquist sphere, 4: NFW, 5: Isochrone\n",
    "subject_flag=1               #subject_flag: 1: Plummer sphere, 3: NFW\n",
    "if (subject_flag==3):\n",
    "    c1=Rc                    #NFW concentration\n",
    "    c2=rmax\n",
    "else:\n",
    "    c1=np.nan\n",
    "    c2=np.nan\n",
    "\n",
    "impact=1 #Impact parameter\n",
    "\n",
    "vpmin=0.1                    #Minimum Perturber velocity\n",
    "vpmax=10                     #Maximum Perturber velocity\n",
    "Nvp=1000\n",
    "vp=np.logspace(np.log10(vpmin),np.log10(vpmax),num=Nvp)\n",
    "\n",
    "adcorr_flag=1                #Adiabatic correction- 1: on, 0: off\n",
    "\n",
    "#-----------------------------------------------------------------\n"
   ]
  },
  {
   "cell_type": "code",
   "execution_count": 5,
   "metadata": {
    "collapsed": true
   },
   "outputs": [],
   "source": [
    "#Loading particle data\n",
    "\n",
    "Np=1000000                   #Total number of particles\n",
    "\n",
    "\n",
    "if (subject_flag==3):\n",
    "    hf=h5py.File('data/particle_data_NFW.h5','r')\n",
    "    X=np.array(hf.get('x'))\n",
    "    Y=np.array(hf.get('y'))\n",
    "    Z=np.array(hf.get('z'))\n",
    "    VX=np.sqrt(np.log(1+c2)-c2/(1+c2))*np.array(hf.get('vx'))\n",
    "    VY=np.sqrt(np.log(1+c2)-c2/(1+c2))*np.array(hf.get('vy'))\n",
    "    VZ=np.sqrt(np.log(1+c2)-c2/(1+c2))*np.array(hf.get('vz'))\n",
    "    hf.close()\n",
    "else:\n",
    "    hf=h5py.File('data/particle_data_plummer.h5','r')\n",
    "    X=np.array(hf.get('x'))\n",
    "    Y=np.array(hf.get('y'))\n",
    "    Z=np.array(hf.get('z'))\n",
    "    VX=np.array(hf.get('vx'))\n",
    "    VY=np.array(hf.get('vy'))\n",
    "    VZ=np.array(hf.get('vz'))\n",
    "    hf.close()\n",
    "\n",
    "R=np.sqrt(X**2+Y**2+Z**2)\n",
    "if (subject_flag==3):\n",
    "    E=-0.5*(VX**2+VY**2+VZ**2)-(np.log(1+c2)-c2/(1+c2))*Phi(R,subject_flag)\n",
    "else:\n",
    "    E=-0.5*(VX**2+VY**2+VZ**2)-Phi(R,subject_flag)"
   ]
  },
  {
   "cell_type": "code",
   "execution_count": null,
   "metadata": {
    "collapsed": true
   },
   "outputs": [],
   "source": [
    "#Computing minimum encounter velocity in order to remain bound\n",
    "\n",
    "delvcm=np.zeros(Np)                              #COM velocity along y in units of (2*G*Mp)/(rs*sigma) (Infinite subject)\n",
    "bound_fraction=np.zeros(Nvp)                     #Bound fraction (general)\n",
    "bound_fraction_tidal=np.zeros(Nvp)               #Bound fraction (distant tide- Gnedin et al. 1999)\n",
    "\n",
    "if (subject_flag==3):\n",
    "    xM1=Menc(Rc,subject_flag)/(np.log(1+c1)-c1/(1+c1))\n",
    "    xM2=Menc(rmax,subject_flag)/(np.log(1+c2)-c2/(1+c2))\n",
    "else:\n",
    "    xM1=Menc(Rc,subject_flag)\n",
    "    xM2=Menc(rmax,subject_flag)\n",
    "Rhalf1=half_mass_radius(xM1,c1,subject_flag)     #Half mass radius (Truncation radius 1=Rc)\n",
    "Rhalf2=half_mass_radius(xM2,c2,subject_flag)     #Half mass radius (Truncation radius 2=rmax)\n",
    "\n",
    "Mtrunc1=Menc(Rc,subject_flag)                    #Mass (Truncation radius 1=Rc)\n",
    "Mtrunc2=Menc(rmax,subject_flag)                  #Mass (Truncation radius 2=rmax)\n",
    "\n",
    "\n",
    "delvcm=vCM(impact,rmax,rp,perturber_flag,subject_flag)*np.ones(Np)\n",
    "delvx=vx(X,Y,Z,impact,rp,perturber_flag)\n",
    "delvy=vy(X,Y,Z,impact,rp,perturber_flag)\n",
    "A=delvx**2+(delvy-delvcm)**2\n",
    "B=VX*delvx+VY*(delvy-delvcm)\n",
    "\n",
    "delvxtidal=vxtidal(X,Y,Z,impact,rp,perturber_flag)\n",
    "delvytidal=vytidal(X,Y,Z,impact,rp,perturber_flag)\n",
    "delvztidal=vztidal(X,Y,Z,impact,rp,perturber_flag)\n",
    "Atidal=delvxtidal**2+delvytidal**2+delvztidal**2\n",
    "Btidal=VX*delvxtidal+VY*delvytidal+VZ*delvztidal\n",
    "\n",
    "def vpfinder(vp,q,A,B,E,r,b,R_half_mass,Mtrunc,adcorr_flag,subject_flag):\n",
    "    adcorr=adiabatic_correction(r,b,vp,R_half_mass,Mtrunc,adcorr_flag,subject_flag)\n",
    "    return (q/vp)**2*A+(q/vp)*B-E/adcorr\n",
    "\n",
    "C=np.zeros(Np)\n",
    "Ctidal=np.zeros(Np)\n",
    "if (adcorr_flag==0):\n",
    "    for i in range(Np):\n",
    "        if (A[i]==0 and B[i]!=0):\n",
    "            C[i]=E[i]/B[i]\n",
    "        elif (B[i]==0 and A[i]!=0):\n",
    "            C[i]=np.sqrt(E[i]/A[i])\n",
    "        elif (A[i]==0 and B[i]==0):\n",
    "            C[i]=q/(0.1*vpmin)\n",
    "        elif (B[i]**2+4*A[i]*E[i]<0 and A[i]<0):\n",
    "            C[i]=q/(0.1*vpmin)\n",
    "        elif (B[i]**2+4*A[i]*E[i]<0 and A[i]>0):\n",
    "            C[i]=q/(10*vpmax)\n",
    "        else:\n",
    "            C[i]=np.sqrt((B[i]/(2*A[i]))**2+E[i]/A[i])-B[i]/(2*A[i])\n",
    "        \n",
    "        if (Atidal[i]==0 and Btidal[i]!=0):\n",
    "            Ctidal[i]=E[i]/Btidal[i]\n",
    "        elif (Btidal[i]==0 and Atidal[i]!=0):\n",
    "            Ctidal[i]=np.sqrt(E[i]/Atidal[i])\n",
    "        elif (Atidal[i]==0 and Btidal[i]==0):\n",
    "            Ctidal[i]=q/(0.1*vpmin)\n",
    "        elif (Btidal[i]**2+4*Atidal[i]*E[i]<0 and Atidal[i]<0):\n",
    "            Ctidal[i]=q/(0.1*vpmin)\n",
    "        elif (Btidal[i]**2+4*Atidal[i]*E[i]<0 and Atidal[i]>0):\n",
    "            Ctidal[i]=q/(10*vpmax)\n",
    "        else:\n",
    "            Ctidal[i]=np.sqrt((Btidal[i]/(2*Atidal[i]))**2+E[i]/Atidal[i])-Btidal[i]/(2*Atidal[i])\n",
    "else:\n",
    "    #start=time.time()\n",
    "    for i in range(Np):\n",
    "        vpfindermin=vpfinder(0.1*vpmin,q,A[i],B[i],E[i],R[i],impact,Rhalf2,Mtrunc2,adcorr_flag,subject_flag)\n",
    "        vpfindermax=vpfinder(10*vpmax,q,A[i],B[i],E[i],R[i],impact,Rhalf2,Mtrunc2,adcorr_flag,subject_flag)\n",
    "        if (vpfindermin*vpfindermax>0):\n",
    "            C[i]=q/(0.1*vpmin)\n",
    "        else:\n",
    "            C[i]=q/optimize.brentq(vpfinder,0.1*vpmin,10*vpmax,args=(q,A[i],B[i],E[i],R[i],impact,Rhalf2,Mtrunc2,adcorr_flag,subject_flag))\n",
    "        \n",
    "        vpfindertidalmin=vpfinder(0.1*vpmin,q,Atidal[i],Btidal[i],E[i],R[i],impact,Rhalf2,Mtrunc2,adcorr_flag,subject_flag)\n",
    "        vpfindertidalmax=vpfinder(10*vpmax,q,Atidal[i],Btidal[i],E[i],R[i],impact,Rhalf2,Mtrunc2,adcorr_flag,subject_flag)\n",
    "        if (vpfindertidalmin*vpfindertidalmax>0):\n",
    "            Ctidal[i]=q/(0.1*vpmin)\n",
    "        else:\n",
    "            Ctidal[i]=q/optimize.brentq(vpfinder,0.1*vpmin,10*vpmax,args=(q,Atidal[i],Btidal[i],E[i],R[i],impact,Rhalf2,Mtrunc2,adcorr_flag,subject_flag))\n",
    "        #end=time.time()\n",
    "        #print (\"%d\\tTime taken: %f s\\n\" %(i,end-start))\n"
   ]
  },
  {
   "cell_type": "code",
   "execution_count": null,
   "metadata": {
    "collapsed": true
   },
   "outputs": [],
   "source": [
    "#Computing bound fraction\n",
    "\n",
    "#start=time.time()\n",
    "for i in range(Nvp):\n",
    "    \n",
    "    mask=vp[i]>q/C\n",
    "    xbound=X[mask]\n",
    "    ybound=Y[mask]\n",
    "    zbound=Z[mask]\n",
    "    vxbound=VX[mask]\n",
    "    vybound=VY[mask]\n",
    "    vzbound=VZ[mask]\n",
    "    bound_fraction[i]=len(xbound)/Np\n",
    "    \n",
    "    \n",
    "    masktidal=vp[i]>q/Ctidal\n",
    "    xtidalbound=X[masktidal]\n",
    "    ytidalbound=Y[masktidal]\n",
    "    ztidalbound=Z[masktidal]\n",
    "    vxtidalbound=VX[masktidal]\n",
    "    vytidalbound=VY[masktidal]\n",
    "    vztidalbound=VZ[masktidal]\n",
    "    bound_fraction_tidal[i]=len(xtidalbound)/Np    \n",
    "    \n",
    "    #end=time.time()\n",
    "    #print (\"%d\\tTime taken: %f s\\n\" %(i,end-start))"
   ]
  },
  {
   "cell_type": "code",
   "execution_count": 8,
   "metadata": {
    "collapsed": true
   },
   "outputs": [],
   "source": [
    "#Writing data in a file\n",
    "\n",
    "hf = h5py.File('boundfraction_straight_orbit_perturber%d_subject%d_rp%.3f_massratio_%.3f_impact%.2f_adcorr%d.h5' %(perturber_flag,subject_flag,rp,mass_ratio,impact,adcorr_flag), 'w')\n",
    "hf.create_dataset('vp', data=vp)\n",
    "hf.create_dataset('bound_fraction', data=bound_fraction)\n",
    "hf.create_dataset('bound_fraction_tidal', data=bound_fraction_tidal)\n",
    "hf.close()"
   ]
  },
  {
   "cell_type": "code",
   "execution_count": 16,
   "metadata": {},
   "outputs": [
    {
     "data": {
      "image/png": "[encoded data removed]",
      "text/plain": [
       "<Figure size 1440x720 with 1 Axes>"
      ]
     },
     "metadata": {},
     "output_type": "display_data"
    }
   ],
   "source": [
    "#Plot\n",
    "\n",
    "fig,ax=plt.subplots(figsize=(20,10))\n",
    "ax.plot(vp,1-bound_fraction,color='b',lw=8)\n",
    "ax.plot(vp,1-bound_fraction_tidal,color='r',lw=8)\n",
    "ax.set_xscale('log')\n",
    "#ax.set_yscale('log')\n",
    "ax.set_xlim([vpmin,vpmax])\n",
    "ax.set_ylim([0,1])\n",
    "ax.tick_params(which='major', direction='in', width=7, length=20, color='k', pad=15)\n",
    "ax.tick_params(which='minor', direction='in', width=5, length=13, color='k', pad=15)\n",
    "ax.set_xticks(np.logspace(np.log10(vpmin),np.log10(vpmax),num=3))\n",
    "ax.set_yticks(np.linspace(0,1,6))\n",
    "ax.tick_params(labelsize=30)\n",
    "ax.set_xlabel('$v_{\\mathrm{P}}/\\sigma$',fontsize=40)\n",
    "ax.set_ylabel('$f_{\\mathrm{unbound}}$',fontsize=40)\n",
    "ax.patch.set_edgecolor('k')  \n",
    "ax.patch.set_linewidth('6')\n",
    "\n",
    "plt.savefig('Unbound_fraction_vs_vp_straight_orbit_perturber%d_subject%d_rp%.3f_massratio_%.3f_impact%.2f_adcorr%d.jpg'  %(perturber_flag,subject_flag,rp,mass_ratio,impact,adcorr_flag))\n",
    "plt.show()"
   ]
  },
  {
   "cell_type": "code",
   "execution_count": null,
   "metadata": {
    "collapsed": true
   },
   "outputs": [],
   "source": []
  }
 ],
 "metadata": {
  "kernelspec": {
   "display_name": "Python 3",
   "language": "python",
   "name": "python3"
  },
  "language_info": {
   "codemirror_mode": {
    "name": "ipython",
    "version": 3
   },
   "file_extension": ".py",
   "mimetype": "text/x-python",
   "name": "python",
   "nbconvert_exporter": "python",
   "pygments_lexer": "ipython3",
   "version": "3.6.3"
  }
 },
 "nbformat": 4,
 "nbformat_minor": 2
}
